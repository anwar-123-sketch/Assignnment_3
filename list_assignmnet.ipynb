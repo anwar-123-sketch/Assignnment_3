{
  "metadata": {
    "kernelspec": {
      "name": "python",
      "display_name": "Python (Pyodide)",
      "language": "python"
    },
    "language_info": {
      "codemirror_mode": {
        "name": "python",
        "version": 3
      },
      "file_extension": ".py",
      "mimetype": "text/x-python",
      "name": "python",
      "nbconvert_exporter": "python",
      "pygments_lexer": "ipython3",
      "version": "3.8"
    }
  },
  "nbformat_minor": 5,
  "nbformat": 4,
  "cells": [
    {
      "cell_type": "code",
      "source": "#Assignment \"Python List Manipulation Assignment\"",
      "metadata": {},
      "execution_count": null,
      "outputs": [],
      "id": "c0d4a26b-0a9d-40fe-9ad1-68cbb69d14bb"
    },
    {
      "cell_type": "code",
      "source": "#Question 1: Basic List Operations\n#a\nfruits=[\"apple\",\"banana\",\"orange\",\"grape\",\"kiwi\"]\n#b\nfruits.append(\"pear\")\n#print(fruits)\n#c\nfruits.insert(1,\"mango\")\n#print(fruits)\n#d\nfruits.remove(\"orange\")\nprint(fruits)",
      "metadata": {
        "trusted": true
      },
      "execution_count": 5,
      "outputs": [
        {
          "name": "stdout",
          "text": "['apple', 'mango', 'banana', 'grape', 'kiwi', 'pear']\n",
          "output_type": "stream"
        }
      ],
      "id": "7565e885-53a7-4c39-8159-1fd5f65e3c89"
    },
    {
      "cell_type": "code",
      "source": "# Question 2: Slicing and Indexing\n#a\nnumbers=[0,1,2,3,4,5,6,7,8,9]\n#b\nprint(numbers[3])\n#c\nprint(numbers[2:7])\n#d\nprint(numbers[-3:])",
      "metadata": {
        "trusted": true
      },
      "execution_count": 13,
      "outputs": [
        {
          "name": "stdout",
          "text": "3\n[2, 3, 4, 5, 6]\n[7, 8, 9]\n",
          "output_type": "stream"
        }
      ],
      "id": "2c3b6d47-f3a6-4da5-915b-c095d9ac5eb5"
    },
    {
      "cell_type": "code",
      "source": "# Question 3: List Comprehension\n#a\nsquares=[]\nfor i in range(1,11):\n    squares.append(i**2)\nprint(squares)\n\n#b\neven_squares=[]\nfor i in squares:\n    if i%2==0:\n        even_squares.append(i)\nprint(even_squares)\n",
      "metadata": {
        "trusted": true
      },
      "execution_count": 15,
      "outputs": [
        {
          "name": "stdout",
          "text": "[1, 4, 9, 16, 25, 36, 49, 64, 81, 100]\n[4, 16, 36, 64, 100]\n",
          "output_type": "stream"
        }
      ],
      "id": "818771d0-fc85-4b09-bacc-ccf8fc65ca83"
    },
    {
      "cell_type": "code",
      "source": "# Question 4: List Manipulation\n#a\ncolors=[\"red\", \"green\", \"blue\", \"yellow\", \"purple\"]\n\n#b\nswap=\"\"\nswap+=colors[-1]\n#print(swap)\ncolors[-1]=colors[0]\n#print(colors[-1])\ncolors[0]=swap\nprint(colors)\n\n#c\nprint(colors[::-1])\n\n#d\ncolors.remove(\"green\")\ncolors.remove(\"blue\")\nprint(colors)",
      "metadata": {
        "trusted": true
      },
      "execution_count": 36,
      "outputs": [
        {
          "name": "stdout",
          "text": "['purple', 'green', 'blue', 'yellow', 'red']\n['red', 'yellow', 'blue', 'green', 'purple']\n['purple', 'yellow', 'red']\n",
          "output_type": "stream"
        }
      ],
      "id": "42a872db-b84b-4ce8-be0d-69bf978fd5cc"
    },
    {
      "cell_type": "code",
      "source": "# Question 5: Advanced Slicing\n#a\nletters=[\"a\",\"b\",\"c\",\"d\",\"e\",\"f\",\"g\",\"h\",\"i\",\"j\"]\n#b\nfirst_half+=letters[0:5]\nprint(first_half)\n#c\nlast_three=[]\nlast_three+=letters[-3:]\nprint(last_three)\n",
      "metadata": {
        "trusted": true
      },
      "execution_count": 28,
      "outputs": [
        {
          "name": "stdout",
          "text": "['a', 'b', 'c', 'd', 'e', 'a', 'b', 'c', 'd', 'e']\n['h', 'i', 'j']\n",
          "output_type": "stream"
        }
      ],
      "id": "94f3de45-3f25-4852-8be3-a32f9fbdb753"
    },
    {
      "cell_type": "code",
      "source": "#Question 6: Nested Lists\n#a\nmatrix=[[1,2,3],[4,5,6],[7,8,9]]\n\n#b\nprint(matrix[1][2])\n#c\nmatrix[1][0]=0\n#print(matrix)",
      "metadata": {
        "trusted": true
      },
      "execution_count": 30,
      "outputs": [
        {
          "name": "stdout",
          "text": "6\n[[1, 2, 3], [0, 5, 6], [7, 8, 9]]\n",
          "output_type": "stream"
        }
      ],
      "id": "a058a395-c343-404c-bdc2-17b04e06b4c0"
    }
  ]
}